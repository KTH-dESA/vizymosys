{
 "cells": [
  {
   "cell_type": "code",
   "execution_count": null,
   "metadata": {},
   "outputs": [],
   "source": [
    "import plotly.express as px\n",
    "import pandas as pd\n",
    "import os"
   ]
  },
  {
   "cell_type": "code",
   "execution_count": null,
   "metadata": {},
   "outputs": [],
   "source": [
    "def load_data(df, scenario, variable, DATA_PATH):\n",
    "    file = os.path.join(scenario, f'{variable}.csv')\n",
    "    _df = pd.read_csv(file)\n",
    "    _df['scenario'] = scenario\n",
    "    return df.append(_df, ignore_index=True)"
   ]
  },
  {
   "cell_type": "code",
   "execution_count": null,
   "metadata": {},
   "outputs": [],
   "source": [
    "DATA_PATH = ''"
   ]
  },
  {
   "cell_type": "code",
   "execution_count": null,
   "metadata": {},
   "outputs": [],
   "source": [
    "df_dict = {}\n",
    "for param in ['UseByTechnologyAnnual', 'AnnualTechnologyEmission', 'ProductionByTechnologyAnnual',\n",
    "              'TotalCapacityAnnual', 'CapitalInvestment', 'TotalDiscountedCost']:\n",
    "    df_dict[param] = pd.DataFrame()\n",
    "    for scenario in ['BAU', 'Current policies', 'SDG7']:\n",
    "        df_dict[param] = load_data(df_dict[param], scenario, param, DATA_PATH)\n",
    "    \n",
    "input_tfec = pd.read_excel(os.path.join(DATA_PATH, 'TFEC.xlsx'))\n",
    "input_el_gen = pd.read_excel(os.path.join(DATA_PATH, 'Electricity_generation.xlsx'))\n",
    "input_el_demand = pd.read_excel(os.path.join(DATA_PATH, 'Electricity_demand.xlsx'))"
   ]
  },
  {
   "cell_type": "code",
   "execution_count": null,
   "metadata": {},
   "outputs": [],
   "source": [
    "# sectors = {'COM': 'Comercial', 'IND': 'Industrial', 'OTH': 'Others', 'RES': 'Residential', 'TRA': 'Transport'}"
   ]
  },
  {
   "cell_type": "markdown",
   "metadata": {},
   "source": [
    "## Total final energy consumption"
   ]
  },
  {
   "cell_type": "code",
   "execution_count": null,
   "metadata": {},
   "outputs": [],
   "source": [
    "dff = pd.merge(df_dict['UseByTechnologyAnnual'], input_tfec, on='t')\n",
    "dff = dff.groupby(['y', 'scenario']).sum().reset_index()\n",
    "fig = px.line(dff, x='y', y='UseByTechnologyAnnual', color='scenario', \n",
    "              template='plotly_white', title='Total final energy consumption - by scenario')\n",
    "fig.show()\n",
    "# fig.write_image('../images/tfec-lines.svg', height=350)"
   ]
  },
  {
   "cell_type": "code",
   "execution_count": null,
   "metadata": {},
   "outputs": [],
   "source": [
    "dff = pd.merge(df_dict['UseByTechnologyAnnual'], input_tfec, on='t')\n",
    "dff = dff.loc[dff['scenario'] == 'BAU']\n",
    "# label = {key: sectors[key[0:3]] for key in dff.t.unique()}\n",
    "# dff['Sector'] = dff.t.map(label)\n",
    "dff = dff.groupby(['y', 'Sector']).sum().reset_index()\n",
    "fig = px.bar(dff, x='y', y='UseByTechnologyAnnual', color='Sector', \n",
    "             template='plotly_white', title='Total final energy consumption - by sector')\n",
    "fig.show()\n",
    "# fig.write_image('../images/tfec-bars.svg', height=350)"
   ]
  },
  {
   "cell_type": "code",
   "execution_count": null,
   "metadata": {},
   "outputs": [],
   "source": [
    "dff = pd.merge(df_dict['UseByTechnologyAnnual'], input_tfec, on='t')\n",
    "dff = dff.loc[dff['scenario'] == 'BAU']\n",
    "dff = dff.loc[(dff['Sector'] == 'Residential')]\n",
    "dff = dff.groupby(['y', 'Fuel']).sum().reset_index()\n",
    "fig = px.bar(dff, x='y', y='UseByTechnologyAnnual', color='Fuel', \n",
    "             template='plotly_white', title='Total final energy consumption - residential sector by fuel')\n",
    "fig.show()\n",
    "# fig.write_image('../images/tfec-bars-fuels.svg', height=350)"
   ]
  },
  {
   "cell_type": "markdown",
   "metadata": {},
   "source": [
    "## TFEC CO2 emissions"
   ]
  },
  {
   "cell_type": "code",
   "execution_count": null,
   "metadata": {},
   "outputs": [],
   "source": [
    "dff = df_emissions\n",
    "dff = dff.groupby(['y', 'scenario']).sum().reset_index()\n",
    "fig = px.line(dff, x='y', y='AnnualTechnologyEmission', color='scenario', \n",
    "              template='plotly_white', title='Total annual final energy use CO2 emissions - by scenario')\n",
    "fig.show()\n",
    "fig.write_image('../images/tfec-co2-lines.svg', height=350)"
   ]
  },
  {
   "cell_type": "code",
   "execution_count": null,
   "metadata": {},
   "outputs": [],
   "source": [
    "dff = df_emissions\n",
    "dff = dff.groupby(['scenario']).sum().reset_index()\n",
    "fig = px.bar(dff, x='scenario', y='AnnualTechnologyEmission',\n",
    "              template='plotly_white', title='Total final energy use CO2 emissions - by scenario')\n",
    "fig.show()\n",
    "fig.write_image('../images/tfec-co2-total.svg', height=350)"
   ]
  },
  {
   "cell_type": "code",
   "execution_count": null,
   "metadata": {},
   "outputs": [],
   "source": [
    "dff = df_emissions\n",
    "dff = dff.loc[dff['scenario'] == 'BAU']\n",
    "dff = dff.groupby(['y', 't']).sum().reset_index()\n",
    "dff = dff.loc[dff['AnnualTechnologyEmission']>0]\n",
    "fig = px.bar(dff, x='y', y='AnnualTechnologyEmission', color='t', \n",
    "              template='plotly_white', title='Total final energy CO2 emissions - by source')\n",
    "fig.show()\n",
    "# fig.write_image('../images/tfec-co2-bars.svg', height=350)"
   ]
  },
  {
   "cell_type": "markdown",
   "metadata": {},
   "source": [
    "## Electricity supply"
   ]
  },
  {
   "cell_type": "code",
   "execution_count": null,
   "metadata": {},
   "outputs": [],
   "source": [
    "dff = pd.merge(df_dict['ProductionByTechnologyAnnual'], input_el_gen, on='t')\n",
    "dff = dff.groupby(['y', 'scenario']).sum().reset_index()\n",
    "fig = px.line(dff, x='y', y='ProductionByTechnologyAnnual', color='scenario', \n",
    "              template='plotly_white', title='Total electricity generation - by scenario')\n",
    "fig.show()\n",
    "# fig.write_image('../images/el-gen-lines.svg', height=350)"
   ]
  },
  {
   "cell_type": "code",
   "execution_count": null,
   "metadata": {},
   "outputs": [],
   "source": [
    "dff = pd.merge(df_dict['ProductionByTechnologyAnnual'], input_el_gen, on='t')\n",
    "dff = dff.loc[dff['scenario'] == 'BAU']\n",
    "dff = dff.loc[dff['ProductionByTechnologyAnnual']>0]\n",
    "dff = dff.groupby(['y', 'Source']).sum().reset_index()\n",
    "fig = px.bar(dff, x='y', y='ProductionByTechnologyAnnual', color='Source', \n",
    "              template='plotly_white', title='Total electricity generation - by source')\n",
    "fig.show()\n",
    "fig.write_image('../images/el-gen-bars.svg', height=370)"
   ]
  },
  {
   "cell_type": "markdown",
   "metadata": {},
   "source": [
    "## Electricity demand"
   ]
  },
  {
   "cell_type": "code",
   "execution_count": null,
   "metadata": {},
   "outputs": [],
   "source": [
    "dff = pd.merge(df_dict['UseByTechnologyAnnual'], input_el_demand, on='t')\n",
    "dff = dff.groupby(['y', 'scenario']).sum().reset_index()\n",
    "fig = px.line(dff, x='y', y='UseByTechnologyAnnual', color='scenario', \n",
    "              template='plotly_white', title='Total electricity demand - by scenario')\n",
    "fig.show()\n",
    "# fig.write_image('../images/el-dem-lines.svg', height=350)"
   ]
  },
  {
   "cell_type": "code",
   "execution_count": null,
   "metadata": {},
   "outputs": [],
   "source": [
    "dff = pd.merge(df_dict['UseByTechnologyAnnual'], input_el_demand, on='t')\n",
    "dff = dff.loc[dff['scenario'] == 'BAU']\n",
    "dff = dff.groupby(['y', 'Sector']).sum().reset_index()\n",
    "fig = px.bar(dff, x='y', y='UseByTechnologyAnnual', color='Sector', \n",
    "              template='plotly_white', title='Total electricity demand - by sector')\n",
    "fig.show()\n",
    "# fig.write_image('../images/el-dem-bars.svg', height=350)"
   ]
  },
  {
   "cell_type": "markdown",
   "metadata": {},
   "source": [
    "## Installed capacity"
   ]
  },
  {
   "cell_type": "code",
   "execution_count": null,
   "metadata": {},
   "outputs": [],
   "source": [
    "dff = pd.merge(df_dict['TotalCapacityAnnual'], input_el_gen, on='t')\n",
    "# dff = dff.loc[dff['scenario'] == 'BAU']\n",
    "dff = dff.loc[dff['TotalCapacityAnnual']>0]\n",
    "dff = dff.groupby(['y', 'Source']).sum().reset_index()\n",
    "fig = px.bar(dff, x='y', y='TotalCapacityAnnual', color='Source', \n",
    "              template='plotly_white', title='Total installed capacity - by technology')\n",
    "fig.show()\n",
    "# fig.write_image('../images/el-cap-bars.svg', height=370)"
   ]
  },
  {
   "cell_type": "markdown",
   "metadata": {},
   "source": [
    "## Electricity generation emissions"
   ]
  },
  {
   "cell_type": "code",
   "execution_count": null,
   "metadata": {},
   "outputs": [],
   "source": [
    "dff = pd.merge(df_dict['UseByTechnologyAnnual'], input_el_gen, on='t')\n",
    "dff['EmissionsCO2'] = dff['UseByTechnologyAnnual'] * dff['EmissionActivityRatio']\n",
    "dff = dff.groupby(['y', 'scenario']).sum().reset_index()\n",
    "fig = px.line(dff, x='y', y='EmissionsCO2', color='scenario', \n",
    "              template='plotly_white', title='Total annual electricity generation CO2 emissions - by scenario')\n",
    "fig.show()\n",
    "fig.write_image('../images/el-gen-co2-lines.svg', height=350)"
   ]
  },
  {
   "cell_type": "code",
   "execution_count": null,
   "metadata": {},
   "outputs": [],
   "source": [
    "dff = pd.merge(df_dict['UseByTechnologyAnnual'], input_el_gen, on='t')\n",
    "dff['EmissionsCO2'] = dff['UseByTechnologyAnnual'] * dff['EmissionActivityRatio']\n",
    "dff = dff.groupby(['scenario']).sum().reset_index()\n",
    "fig = px.bar(dff, x='scenario', y='EmissionsCO2',  \n",
    "              template='plotly_white', title='Total electricity generation CO2 emissions - by scenario')\n",
    "fig.show()\n",
    "fig.write_image('../images/el-gen-co2-total.svg', height=350)"
   ]
  },
  {
   "cell_type": "code",
   "execution_count": null,
   "metadata": {},
   "outputs": [],
   "source": [
    "dff = pd.merge(df_dict['UseByTechnologyAnnual'], input_el_gen, on='t')\n",
    "dff = dff.loc[dff['scenario'] == 'BAU']\n",
    "dff['EmissionsCO2'] = dff['UseByTechnologyAnnual'] * dff['EmissionActivityRatio']\n",
    "dff = dff.loc[dff['EmissionsCO2']>0]\n",
    "dff = dff.groupby(['y', 'Source']).sum().reset_index()\n",
    "fig = px.bar(dff, x='y', y='EmissionsCO2', color='Source', \n",
    "              template='plotly_white', title='Total electricity generation CO2 emissions - by source')\n",
    "fig.show()\n",
    "# fig.write_image('../images/el-gen-co2-bars.svg', height=350)"
   ]
  },
  {
   "cell_type": "markdown",
   "metadata": {},
   "source": [
    "## Capital investment in new generation capacity"
   ]
  },
  {
   "cell_type": "code",
   "execution_count": null,
   "metadata": {},
   "outputs": [],
   "source": [
    "dff = pd.merge(df_dict['CapitalInvestment'], input_el_gen, on='t')\n",
    "dff = dff.groupby(['y', 'scenario']).sum().reset_index()\n",
    "fig = px.line(dff, x='y', y='CapitalInvestment', color='scenario', \n",
    "              template='plotly_white', title='Annual capital investment in electricity generation capacity - by scenario')\n",
    "fig.show()\n",
    "fig.write_image('../images/el-gen-inv-lines.svg', height=350)"
   ]
  },
  {
   "cell_type": "code",
   "execution_count": null,
   "metadata": {},
   "outputs": [],
   "source": [
    "dff = pd.merge(df_dict['CapitalInvestment'], input_el_gen, on='t')\n",
    "dff = dff.groupby(['scenario']).sum().reset_index()\n",
    "fig = px.bar(dff, x='scenario', y='CapitalInvestment',\n",
    "              template='plotly_white', title='Capital investment in electricity generation capacity - by scenario')\n",
    "fig.show()\n",
    "fig.write_image('../images/el-gen-inv-total.svg', height=350)"
   ]
  },
  {
   "cell_type": "code",
   "execution_count": null,
   "metadata": {},
   "outputs": [],
   "source": [
    "dff = pd.merge(df_dict['CapitalInvestment'], input_el_gen, on='t')\n",
    "dff = dff.loc[dff['scenario'] == 'BAU']\n",
    "dff = dff.loc[dff['CapitalInvestment']>0]\n",
    "dff = dff.groupby(['y', 'Source']).sum().reset_index()\n",
    "fig = px.bar(dff, x='y', y='CapitalInvestment', color='Source',\n",
    "              template='plotly_white', title='Capital investment in electricity generation capacity - by technology')\n",
    "fig.show()\n",
    "# fig.write_image('../images/el-gen-inv-bars.svg', height=350)"
   ]
  },
  {
   "cell_type": "markdown",
   "metadata": {},
   "source": [
    "## Total system discounted cost"
   ]
  },
  {
   "cell_type": "code",
   "execution_count": null,
   "metadata": {},
   "outputs": [],
   "source": [
    "dff = df_dict['TotalDiscountedCost']\n",
    "dff = dff.groupby(['y', 'scenario']).sum().reset_index()\n",
    "fig = px.line(dff, x='y', y='TotalDiscountedCost', color='scenario', \n",
    "              template='plotly_white', title='Total annual discounted cost - by scenario')\n",
    "fig.show()\n",
    "fig.write_image('../images/total-cost-lines.svg', height=350)"
   ]
  },
  {
   "cell_type": "code",
   "execution_count": null,
   "metadata": {},
   "outputs": [],
   "source": [
    "dff = df_dict['TotalDiscountedCost']\n",
    "dff = dff.groupby(['scenario']).sum().reset_index()\n",
    "fig = px.bar(dff, x='scenario', y='TotalDiscountedCost', \n",
    "              template='plotly_white', title='Total discounted cost - by scenario')\n",
    "fig.show()\n",
    "fig.write_image('../images/total-cost-bars.svg', height=350)"
   ]
  },
  {
   "cell_type": "markdown",
   "metadata": {},
   "source": [
    "## Share of RE in electricity production"
   ]
  },
  {
   "cell_type": "code",
   "execution_count": null,
   "metadata": {},
   "outputs": [],
   "source": [
    "dff = pd.merge(df_dict['ProductionByTechnologyAnnual'], input_el_gen, on='t')\n",
    "# dff = dff.loc[dff['scenario'] == 'SDG7']\n",
    "dff = dff.groupby(['scenario', 'y', 'Type']).sum().reset_index()\n",
    "dff = dff.reset_index()\n",
    "dff['Total'] = dff.set_index(['scenario', 'y']).index.map(dff.groupby(['scenario', 'y'])['ProductionByTechnologyAnnual'].sum())\n",
    "dff['Share'] = dff['ProductionByTechnologyAnnual'] / dff['Total']\n",
    "\n",
    "fig = px.area(dff, x='y', y='Share', color='Type', facet_col='scenario',\n",
    "              template='plotly_white', title='Renewable energy share in electricity generation')\n",
    "fig.update_layout(yaxis={'tickformat': '%'})\n",
    "fig.show()\n",
    "fig.write_image('../images/re-share-el.svg', height=350)"
   ]
  }
 ],
 "metadata": {
  "kernelspec": {
   "display_name": "Python 3",
   "language": "python",
   "name": "python3"
  },
  "language_info": {
   "codemirror_mode": {
    "name": "ipython",
    "version": 3
   },
   "file_extension": ".py",
   "mimetype": "text/x-python",
   "name": "python",
   "nbconvert_exporter": "python",
   "pygments_lexer": "ipython3",
   "version": "3.7.3"
  }
 },
 "nbformat": 4,
 "nbformat_minor": 4
}
